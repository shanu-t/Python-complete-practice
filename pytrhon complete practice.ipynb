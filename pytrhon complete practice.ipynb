{
 "cells": [
  {
   "cell_type": "code",
   "execution_count": 1,
   "id": "31980da9-6842-44ce-94e2-657b7b98c041",
   "metadata": {},
   "outputs": [],
   "source": [
    "# Ques 1:- write a program to print \"Hello, World\"?"
   ]
  },
  {
   "cell_type": "code",
   "execution_count": 7,
   "id": "3088499d-33d7-435c-948b-0c7f8283a504",
   "metadata": {},
   "outputs": [
    {
     "name": "stdout",
     "output_type": "stream",
     "text": [
      "Hello,World!\n"
     ]
    }
   ],
   "source": [
    "print(\"Hello,World!\")"
   ]
  },
  {
   "cell_type": "code",
   "execution_count": 9,
   "id": "161b6a07-b0aa-4f6f-8660-e5f14fb18f54",
   "metadata": {},
   "outputs": [],
   "source": [
    "# ques 2:- write a program to take two integers as input and print their sum."
   ]
  },
  {
   "cell_type": "code",
   "execution_count": 13,
   "id": "72186737-464c-4521-aa20-749aa731d962",
   "metadata": {},
   "outputs": [
    {
     "name": "stdin",
     "output_type": "stream",
     "text": [
      "Enter a number A:-  1\n",
      "Enter a number B:-  5\n"
     ]
    },
    {
     "name": "stdout",
     "output_type": "stream",
     "text": [
      "Additon: , Add\n"
     ]
    }
   ],
   "source": [
    "num1 = int(input(\"Enter a number A:- \"))\n",
    "num2 =int(input(\"Enter a number B:- \"))\n",
    "add = num1+num2\n",
    "print(\"Additon: , Add\")\n",
    "\n",
    "           "
   ]
  },
  {
   "cell_type": "code",
   "execution_count": 15,
   "id": "38f43674-d42c-4de4-bd7a-aad87bd0821a",
   "metadata": {},
   "outputs": [],
   "source": [
    "#Ques 3:- Write a program to calculate the area of a rectangle."
   ]
  },
  {
   "cell_type": "code",
   "execution_count": 17,
   "id": "fe64eafb-29a4-4149-a8bc-c67bfe7ae907",
   "metadata": {},
   "outputs": [
    {
     "name": "stdin",
     "output_type": "stream",
     "text": [
      "Enter length of rectangle:- 5\n",
      "Enter a Width of rectangle:  7\n"
     ]
    },
    {
     "name": "stdout",
     "output_type": "stream",
     "text": [
      "Area of Rectangle, Area\n"
     ]
    }
   ],
   "source": [
    "length = int(input(\"Enter length of rectangle:-\"))\n",
    "width = int(input(\"Enter a Width of rectangle: \"))\n",
    "area = length*width\n",
    "print(\"Area of Rectangle, Area\")"
   ]
  },
  {
   "cell_type": "code",
   "execution_count": 19,
   "id": "ae5c8eb1-467a-4476-847d-3a5058acab1c",
   "metadata": {},
   "outputs": [],
   "source": [
    "# Ques4:- Write a Python program to check if a number is even or odd."
   ]
  },
  {
   "cell_type": "code",
   "execution_count": 27,
   "id": "cf9ea30a-de49-4f16-a2e9-af536cd74ff7",
   "metadata": {},
   "outputs": [
    {
     "name": "stdin",
     "output_type": "stream",
     "text": [
      "Enter A number:  4\n"
     ]
    },
    {
     "name": "stdout",
     "output_type": "stream",
     "text": [
      "Even number\n"
     ]
    }
   ],
   "source": [
    "num= int(input(\"Enter A number: \"))\n",
    "if (num%2==0):\n",
    "    print(\"Even number\")\n",
    "else:\n",
    "   print(\"Odd number\")\n",
    "         "
   ]
  },
  {
   "cell_type": "code",
   "execution_count": 29,
   "id": "0fdd8640-cd15-4f30-8929-a5471998088e",
   "metadata": {},
   "outputs": [],
   "source": [
    "# ques 5:- Write a Python program to take a string as input and print it in reverse order."
   ]
  },
  {
   "cell_type": "code",
   "execution_count": 33,
   "id": "fbe08065-b4e4-4072-ad5e-6aba90ef1b7b",
   "metadata": {},
   "outputs": [
    {
     "name": "stdin",
     "output_type": "stream",
     "text": [
      "Enter a string:-  5\n"
     ]
    },
    {
     "name": "stdout",
     "output_type": "stream",
     "text": [
      "5\n"
     ]
    }
   ],
   "source": [
    "string =input(\"Enter a string:- \")\n",
    "print(string[::1])"
   ]
  },
  {
   "cell_type": "code",
   "execution_count": null,
   "id": "69ce535d-6fd7-41fb-9705-116dc66bdea4",
   "metadata": {},
   "outputs": [],
   "source": [
    "# Ques 6:- Write a Python program to convert temperature from Celsius to Fahrenheit."
   ]
  }
 ],
 "metadata": {
  "kernelspec": {
   "display_name": "Python 3 (ipykernel)",
   "language": "python",
   "name": "python3"
  },
  "language_info": {
   "codemirror_mode": {
    "name": "ipython",
    "version": 3
   },
   "file_extension": ".py",
   "mimetype": "text/x-python",
   "name": "python",
   "nbconvert_exporter": "python",
   "pygments_lexer": "ipython3",
   "version": "3.12.4"
  }
 },
 "nbformat": 4,
 "nbformat_minor": 5
}
