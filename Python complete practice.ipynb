{
 "cells": [
  {
   "cell_type": "code",
   "execution_count": 1,
   "id": "5fd3833b-1bb1-4ed4-8648-dfd5712e2236",
   "metadata": {},
   "outputs": [],
   "source": [
    "# Ques :-16. Write a program to check if a year is a leap year."
   ]
  },
  {
   "cell_type": "code",
   "execution_count": 7,
   "id": "40257af4-a482-496b-931d-bab0c94c4bd3",
   "metadata": {},
   "outputs": [
    {
     "name": "stdin",
     "output_type": "stream",
     "text": [
      "Enter a year :  2024\n"
     ]
    }
   ],
   "source": [
    "year = int(input(\"Enter a year : \"))\n",
    "if (year%4==0):\n",
    "    (\"It's a leap year \")\n",
    "else:\n",
    "    (\"It's not a leap year \")"
   ]
  },
  {
   "cell_type": "code",
   "execution_count": 9,
   "id": "340a009f-660d-4eed-877e-71318a1198ff",
   "metadata": {},
   "outputs": [],
   "source": [
    "# Ques:- 17. Write a Python program to find the greatest common divisor (GCD) of two numbers."
   ]
  },
  {
   "cell_type": "code",
   "execution_count": 13,
   "id": "905825a3-e31a-422f-b088-37beff44c1f4",
   "metadata": {},
   "outputs": [
    {
     "name": "stdin",
     "output_type": "stream",
     "text": [
      "Enter a number 1 :  75\n",
      "Enter a number 2 :  45\n"
     ]
    },
    {
     "name": "stdout",
     "output_type": "stream",
     "text": [
      "LCM/HCf, 'gcd'  15\n"
     ]
    }
   ],
   "source": [
    "num1 = int(input(\"Enter a number 1 : \"))\n",
    "num2 = int(input(\"Enter a number 2 : \"))\n",
    "gcd = 1\n",
    "for i in range (1,num1+1):\n",
    "    if (num1%i==0) and (num2%i==0):\n",
    "        gcd = i\n",
    "print(\"LCM/HCf, 'gcd' \",gcd)\n",
    "    "
   ]
  },
  {
   "cell_type": "code",
   "execution_count": 15,
   "id": "95498fc8-82aa-4aec-8f0c-a6633539cd5d",
   "metadata": {},
   "outputs": [],
   "source": [
    "# ques 18:- Write a Python program to print the sum of all numbers in a given range."
   ]
  },
  {
   "cell_type": "code",
   "execution_count": 19,
   "id": "864d180a-c724-4092-966f-c9cae31d8b6e",
   "metadata": {},
   "outputs": [
    {
     "name": "stdin",
     "output_type": "stream",
     "text": [
      "Enter start range :  1\n",
      "Enter end range :  100\n"
     ]
    },
    {
     "name": "stdout",
     "output_type": "stream",
     "text": [
      "sum of all natural numbers : 1\n",
      "sum of all natural numbers : 3\n",
      "sum of all natural numbers : 6\n",
      "sum of all natural numbers : 10\n",
      "sum of all natural numbers : 15\n",
      "sum of all natural numbers : 21\n",
      "sum of all natural numbers : 28\n",
      "sum of all natural numbers : 36\n",
      "sum of all natural numbers : 45\n",
      "sum of all natural numbers : 55\n",
      "sum of all natural numbers : 66\n",
      "sum of all natural numbers : 78\n",
      "sum of all natural numbers : 91\n",
      "sum of all natural numbers : 105\n",
      "sum of all natural numbers : 120\n",
      "sum of all natural numbers : 136\n",
      "sum of all natural numbers : 153\n",
      "sum of all natural numbers : 171\n",
      "sum of all natural numbers : 190\n",
      "sum of all natural numbers : 210\n",
      "sum of all natural numbers : 231\n",
      "sum of all natural numbers : 253\n",
      "sum of all natural numbers : 276\n",
      "sum of all natural numbers : 300\n",
      "sum of all natural numbers : 325\n",
      "sum of all natural numbers : 351\n",
      "sum of all natural numbers : 378\n",
      "sum of all natural numbers : 406\n",
      "sum of all natural numbers : 435\n",
      "sum of all natural numbers : 465\n",
      "sum of all natural numbers : 496\n",
      "sum of all natural numbers : 528\n",
      "sum of all natural numbers : 561\n",
      "sum of all natural numbers : 595\n",
      "sum of all natural numbers : 630\n",
      "sum of all natural numbers : 666\n",
      "sum of all natural numbers : 703\n",
      "sum of all natural numbers : 741\n",
      "sum of all natural numbers : 780\n",
      "sum of all natural numbers : 820\n",
      "sum of all natural numbers : 861\n",
      "sum of all natural numbers : 903\n",
      "sum of all natural numbers : 946\n",
      "sum of all natural numbers : 990\n",
      "sum of all natural numbers : 1035\n",
      "sum of all natural numbers : 1081\n",
      "sum of all natural numbers : 1128\n",
      "sum of all natural numbers : 1176\n",
      "sum of all natural numbers : 1225\n",
      "sum of all natural numbers : 1275\n",
      "sum of all natural numbers : 1326\n",
      "sum of all natural numbers : 1378\n",
      "sum of all natural numbers : 1431\n",
      "sum of all natural numbers : 1485\n",
      "sum of all natural numbers : 1540\n",
      "sum of all natural numbers : 1596\n",
      "sum of all natural numbers : 1653\n",
      "sum of all natural numbers : 1711\n",
      "sum of all natural numbers : 1770\n",
      "sum of all natural numbers : 1830\n",
      "sum of all natural numbers : 1891\n",
      "sum of all natural numbers : 1953\n",
      "sum of all natural numbers : 2016\n",
      "sum of all natural numbers : 2080\n",
      "sum of all natural numbers : 2145\n",
      "sum of all natural numbers : 2211\n",
      "sum of all natural numbers : 2278\n",
      "sum of all natural numbers : 2346\n",
      "sum of all natural numbers : 2415\n",
      "sum of all natural numbers : 2485\n",
      "sum of all natural numbers : 2556\n",
      "sum of all natural numbers : 2628\n",
      "sum of all natural numbers : 2701\n",
      "sum of all natural numbers : 2775\n",
      "sum of all natural numbers : 2850\n",
      "sum of all natural numbers : 2926\n",
      "sum of all natural numbers : 3003\n",
      "sum of all natural numbers : 3081\n",
      "sum of all natural numbers : 3160\n",
      "sum of all natural numbers : 3240\n",
      "sum of all natural numbers : 3321\n",
      "sum of all natural numbers : 3403\n",
      "sum of all natural numbers : 3486\n",
      "sum of all natural numbers : 3570\n",
      "sum of all natural numbers : 3655\n",
      "sum of all natural numbers : 3741\n",
      "sum of all natural numbers : 3828\n",
      "sum of all natural numbers : 3916\n",
      "sum of all natural numbers : 4005\n",
      "sum of all natural numbers : 4095\n",
      "sum of all natural numbers : 4186\n",
      "sum of all natural numbers : 4278\n",
      "sum of all natural numbers : 4371\n",
      "sum of all natural numbers : 4465\n",
      "sum of all natural numbers : 4560\n",
      "sum of all natural numbers : 4656\n",
      "sum of all natural numbers : 4753\n",
      "sum of all natural numbers : 4851\n",
      "sum of all natural numbers : 4950\n",
      "sum of all natural numbers : 5050\n"
     ]
    }
   ],
   "source": [
    "start = int (input(\"Enter start range : \"))\n",
    "End = int(input(\"Enter end range : \"))\n",
    "add = 0\n",
    "for i in range (start,End+1):\n",
    "    add= add+i\n",
    "    print(\"sum of all natural numbers :\", add)\n",
    "    "
   ]
  },
  {
   "cell_type": "code",
   "execution_count": 21,
   "id": "79156633-b3c7-4009-aaba-88a72cab6ab4",
   "metadata": {},
   "outputs": [],
   "source": [
    "# ques:-19 :- Write a program to find whether a given number is Armstrong or not."
   ]
  },
  {
   "cell_type": "code",
   "execution_count": 23,
   "id": "26699f3a-22ee-4a8a-ba3d-8d7723a4527b",
   "metadata": {},
   "outputs": [],
   "source": [
    "#  An Armstrong number is a number that equals the sum of its individual digits, each raised to the power of the number of digits. \n",
    "# For example, 153 is an Armstrong number because 1^3 + 5^3 + 3^3 equals 153. \n",
    "# It's a self-descriptive mathematical property used in coding and math puzzles."
   ]
  },
  {
   "cell_type": "code",
   "execution_count": 27,
   "id": "8f969103-45b5-4473-9454-ee96e7322cdd",
   "metadata": {},
   "outputs": [
    {
     "name": "stdin",
     "output_type": "stream",
     "text": [
      "Enter a number :  234\n"
     ]
    },
    {
     "name": "stdout",
     "output_type": "stream",
     "text": [
      "number is not armstrong\n",
      "number is not armstrong\n",
      "number is not armstrong\n"
     ]
    }
   ],
   "source": [
    "num = int(input(\"Enter a number : \"))\n",
    "temp = num\n",
    "total = 0\n",
    "while(num>0):\n",
    "    rem=(num%10)\n",
    "    total = total+rem*rem*rem\n",
    "    num =int(num/10)\n",
    "    if(temp==total):\n",
    "        print(\"number is armstrong\")\n",
    "    else:\n",
    "        print(\"number is not armstrong\")\n"
   ]
  },
  {
   "cell_type": "code",
   "execution_count": 29,
   "id": "edae7ea2-72ef-495b-93f6-b77af86a8f84",
   "metadata": {},
   "outputs": [
    {
     "name": "stdin",
     "output_type": "stream",
     "text": [
      "Enter a number :  153\n"
     ]
    },
    {
     "name": "stdout",
     "output_type": "stream",
     "text": [
      "number is not armstrong\n",
      "number is not armstrong\n",
      "number is armstrong\n"
     ]
    }
   ],
   "source": [
    "num = int(input(\"Enter a number : \"))\n",
    "temp = num\n",
    "total = 0\n",
    "while(num>0):\n",
    "    rem=(num%10)\n",
    "    total = total+rem*rem*rem\n",
    "    num =int(num/10)\n",
    "    if(temp==total):\n",
    "        print(\"number is armstrong\")\n",
    "    else:\n",
    "        print(\"number is not armstrong\")\n"
   ]
  },
  {
   "cell_type": "code",
   "execution_count": 31,
   "id": "5c8a8c09-a3db-477d-be8c-6c5865ab9f77",
   "metadata": {},
   "outputs": [
    {
     "name": "stdin",
     "output_type": "stream",
     "text": [
      "Enter a number :  123\n"
     ]
    },
    {
     "name": "stdout",
     "output_type": "stream",
     "text": [
      "number is not armstrong\n",
      "number is not armstrong\n",
      "number is not armstrong\n"
     ]
    }
   ],
   "source": [
    "num = int(input(\"Enter a number : \"))\n",
    "temp = num\n",
    "total = 0\n",
    "while(num>0):\n",
    "    rem = (num%10)\n",
    "    total = total+rem*rem*rem\n",
    "    num = int(num/10)\n",
    "    if(temp==total):\n",
    "        print(\"number is armstrong\")\n",
    "    else:\n",
    "        print(\"number is not armstrong\")"
   ]
  },
  {
   "cell_type": "code",
   "execution_count": 33,
   "id": "20d82cac-d575-4e8b-95d0-f3772ecb3ac2",
   "metadata": {},
   "outputs": [],
   "source": [
    "# ques 20:- Write a Python program to print all even numbers between 1 and 50."
   ]
  },
  {
   "cell_type": "code",
   "execution_count": 37,
   "id": "657963e2-9569-45c2-b126-485a088578a2",
   "metadata": {},
   "outputs": [
    {
     "name": "stdout",
     "output_type": "stream",
     "text": [
      "Even numbers between 1 and 50\n",
      "2 4 6 8 10 12 14 16 18 20 22 24 26 28 30 32 34 36 38 40 42 44 46 48 50 "
     ]
    }
   ],
   "source": [
    "print(\"Even numbers between 1 and 50\")\n",
    "for i in range (1,51):\n",
    "    if(i%2==0):\n",
    "        print(i,end= \" \")\n",
    "    "
   ]
  },
  {
   "cell_type": "code",
   "execution_count": 39,
   "id": "033e002b-22b5-4ca4-89d7-1abf61d80a89",
   "metadata": {},
   "outputs": [],
   "source": [
    "# ques 21:- Write a Python program to print all odd numbers between 1 and 50."
   ]
  },
  {
   "cell_type": "code",
   "execution_count": 43,
   "id": "073995ed-9e78-4607-a513-80dacb29dbf0",
   "metadata": {},
   "outputs": [
    {
     "name": "stdout",
     "output_type": "stream",
     "text": [
      "Odd number betwwn 1 and 50\n",
      "3 6 9 12 15 18 21 24 27 30 33 36 39 42 45 48 "
     ]
    }
   ],
   "source": [
    "print(\"Odd number betwwn 1 and 50\")\n",
    "for i in range(1,51):\n",
    "    if(i%3==0):\n",
    "        print(i,end=\" \")"
   ]
  },
  {
   "cell_type": "code",
   "execution_count": 45,
   "id": "c58ea626-31a6-4b89-b163-8365d23e10e8",
   "metadata": {},
   "outputs": [],
   "source": [
    "# ques 22:-  Write a Python program to print all odd numbers between 1 and 200."
   ]
  },
  {
   "cell_type": "code",
   "execution_count": 57,
   "id": "e9c9bb82-8864-4a7f-8140-55f0545d3264",
   "metadata": {},
   "outputs": [
    {
     "name": "stdout",
     "output_type": "stream",
     "text": [
      "Odd numbers between 1and 200\n",
      "3\n",
      "6\n",
      "9\n",
      "12\n",
      "15\n",
      "18\n",
      "21\n",
      "24\n",
      "27\n",
      "30\n",
      "33\n",
      "36\n",
      "39\n",
      "42\n",
      "45\n",
      "48\n",
      "51\n",
      "54\n",
      "57\n",
      "60\n",
      "63\n",
      "66\n",
      "69\n",
      "72\n",
      "75\n",
      "78\n",
      "81\n",
      "84\n",
      "87\n",
      "90\n",
      "93\n",
      "96\n",
      "99\n",
      "102\n",
      "105\n",
      "108\n",
      "111\n",
      "114\n",
      "117\n",
      "120\n",
      "123\n",
      "126\n",
      "129\n",
      "132\n",
      "135\n",
      "138\n",
      "141\n",
      "144\n",
      "147\n",
      "150\n",
      "153\n",
      "156\n",
      "159\n",
      "162\n",
      "165\n",
      "168\n",
      "171\n",
      "174\n",
      "177\n",
      "180\n",
      "183\n",
      "186\n",
      "189\n",
      "192\n",
      "195\n",
      "198\n"
     ]
    }
   ],
   "source": [
    "print(\"Odd numbers between 1and 200\")\n",
    "for i in range(1,201):\n",
    "    if(i%3==0):\n",
    "        print(i,end=\"\\n\")"
   ]
  },
  {
   "cell_type": "code",
   "execution_count": 59,
   "id": "c1edc6cc-ae1d-43d6-af75-7e7792348a6c",
   "metadata": {},
   "outputs": [],
   "source": [
    "# Now Quetions of list and tuple :-"
   ]
  },
  {
   "cell_type": "code",
   "execution_count": 61,
   "id": "ff0b88e9-3503-4b12-af07-51409f40edf3",
   "metadata": {},
   "outputs": [],
   "source": [
    "# ques 23:- Write a program to find the maximum and minimum numbers in a list."
   ]
  },
  {
   "cell_type": "code",
   "execution_count": 65,
   "id": "8ac32176-b870-4295-8258-c8a7bf63e423",
   "metadata": {},
   "outputs": [
    {
     "name": "stdout",
     "output_type": "stream",
     "text": [
      "list :  [1, 3, 45, 6, 44, 34, 355, 67, 78, 988, 7, 54, 44, 56]\n",
      "minmun : 1\n",
      "maximum : 3\n",
      "list :  [1, 3, 45, 6, 44, 34, 355, 67, 78, 988, 7, 54, 44, 56]\n",
      "minmun : 1\n",
      "maximum : 45\n",
      "list :  [1, 3, 45, 6, 44, 34, 355, 67, 78, 988, 7, 54, 44, 56]\n",
      "minmun : 1\n",
      "maximum : 355\n",
      "list :  [1, 3, 45, 6, 44, 34, 355, 67, 78, 988, 7, 54, 44, 56]\n",
      "minmun : 1\n",
      "maximum : 988\n"
     ]
    }
   ],
   "source": [
    "list1= [1,3,45,6,44,34,355,67,78,988,7,54,44,56]\n",
    "min = list1[0]\n",
    "max = list1[0]\n",
    "for i in list1 :\n",
    "    if(i<min):\n",
    "        min = i\n",
    "    if(i>max):\n",
    "        max = i\n",
    "        print(\"list : \", list1)\n",
    "        print(\"minmun :\", min)\n",
    "        print(\"maximum :\", max)\n",
    "        \n",
    "    "
   ]
  },
  {
   "cell_type": "code",
   "execution_count": 67,
   "id": "18cdbb46-d42b-4ba8-ab4f-4e1e89cdac8c",
   "metadata": {},
   "outputs": [],
   "source": [
    "# ques 24:- Write a Python program to reverse a list."
   ]
  },
  {
   "cell_type": "code",
   "execution_count": 69,
   "id": "aa741792-b448-4e6e-bf29-7ce2d924de4c",
   "metadata": {},
   "outputs": [
    {
     "name": "stdout",
     "output_type": "stream",
     "text": [
      "list  [2, 45, 67, 45, 45, 23, 45, 87, 98]\n",
      "list [98, 87, 45, 23, 45, 45, 67, 45, 2]\n"
     ]
    }
   ],
   "source": [
    "list1 = [2,45,67,45,45,23,45,87,98]\n",
    "print(\"list \",list1)\n",
    "list1.reverse()\n",
    "print(\"list\", list1)"
   ]
  },
  {
   "cell_type": "code",
   "execution_count": 71,
   "id": "03f89162-5504-4c92-969f-a7d58e6ddfdb",
   "metadata": {},
   "outputs": [
    {
     "name": "stdout",
     "output_type": "stream",
     "text": [
      "list [23, 654, 45, 4, 4345, 4, 34, 4, 65]\n",
      "list [65, 4, 34, 4, 4345, 4, 45, 654, 23]\n"
     ]
    }
   ],
   "source": [
    "# ques 25:- Write a Python program to reverse a list.\n",
    "list2 =[23,654,45,4,4345,4,34,4,65]\n",
    "print(\"list\", list2)\n",
    "list2.reverse()\n",
    "print(\"list\", list2)\n"
   ]
  },
  {
   "cell_type": "code",
   "execution_count": 73,
   "id": "bdabe356-b1e6-4f07-a1c8-30150d81d03e",
   "metadata": {},
   "outputs": [],
   "source": [
    "# ques 26:- Write a Python program to find the sum of all elements in a list."
   ]
  },
  {
   "cell_type": "code",
   "execution_count": 81,
   "id": "250ddec0-e632-454c-8fac-819f943bbdb5",
   "metadata": {},
   "outputs": [
    {
     "name": "stdout",
     "output_type": "stream",
     "text": [
      "list :  [12, 34, 56, 765, 434]\n",
      "Sum of all element of list = 1301\n"
     ]
    }
   ],
   "source": [
    "list1 =[12,34,56,765,434]\n",
    "sum = 0\n",
    "for i in list1:\n",
    "    sum= sum+i\n",
    "print(\"list : \", list1)\n",
    "print(\"Sum of all element of list =\", sum)"
   ]
  },
  {
   "cell_type": "code",
   "execution_count": 93,
   "id": "329e1ac3-22fa-4056-97dc-01fd0fd3cb76",
   "metadata": {},
   "outputs": [
    {
     "name": "stdout",
     "output_type": "stream",
     "text": [
      "list: [12, 34, 56, 765, 434]\n",
      "total of all numbers in list =  12\n",
      "list: [12, 34, 56, 765, 434]\n",
      "total of all numbers in list =  46\n",
      "list: [12, 34, 56, 765, 434]\n",
      "total of all numbers in list =  102\n",
      "list: [12, 34, 56, 765, 434]\n",
      "total of all numbers in list =  867\n",
      "list: [12, 34, 56, 765, 434]\n",
      "total of all numbers in list =  1301\n"
     ]
    }
   ],
   "source": [
    "# ques 27:- Write a Python program to find the total of all elements in a list.\n",
    "list1 = [12,34,56,765,434]\n",
    "total = 0\n",
    "for i in list1:\n",
    "    total = total+i\n",
    "    print(\"list:\", list1)\n",
    "    print(\"total of all numbers in list = \", total)\n"
   ]
  },
  {
   "cell_type": "code",
   "execution_count": 95,
   "id": "2418e994-8c46-431d-8e34-eb643c7ea932",
   "metadata": {},
   "outputs": [],
   "source": [
    "# ques 28:- Write a Python program to count the number of occurrences of an element in a list."
   ]
  },
  {
   "cell_type": "code",
   "execution_count": 107,
   "id": "5f0ab53b-088f-46ac-87e4-50ae4e5f0d25",
   "metadata": {},
   "outputs": [
    {
     "name": "stdout",
     "output_type": "stream",
     "text": [
      "list:  [12, 56, 56, 456, 456, 45, 45, 45, 45, 57, 87, 7]\n"
     ]
    },
    {
     "name": "stdin",
     "output_type": "stream",
     "text": [
      "Enter element to find occurence :  45\n"
     ]
    },
    {
     "name": "stdout",
     "output_type": "stream",
     "text": [
      "occurence :  1\n",
      "occurence :  2\n",
      "occurence :  3\n",
      "occurence :  4\n"
     ]
    }
   ],
   "source": [
    "list1 = [12,56,56,456,456,45,45,45,45,57,87,7]\n",
    "print(\"list: \",list1)\n",
    "num = int(input(\"Enter element to find occurence : \"))\n",
    "count = 0\n",
    "for i in list1:\n",
    "    if(i==num):\n",
    "        count=count+1\n",
    "        print(\"occurence : \", count)\n",
    "        \n",
    "   \n"
   ]
  },
  {
   "cell_type": "code",
   "execution_count": 109,
   "id": "7dfb5e29-6bad-4563-9bf0-3756b20ab4d6",
   "metadata": {},
   "outputs": [],
   "source": [
    "# ques 29:- Write a program to merge two lists into a single list."
   ]
  },
  {
   "cell_type": "code",
   "execution_count": 111,
   "id": "30efd54f-a3e6-4a76-b150-118ebaf4bf56",
   "metadata": {},
   "outputs": [
    {
     "name": "stdout",
     "output_type": "stream",
     "text": [
      "list1:  [234, 456, 3456, 34, 34, 45, 76, 987, 76, 65]\n",
      "list2:  [54, 345, 45, 87, 65, 45, 34, 5, 7, 6, 876, 45, 3]\n",
      "merged list:  [234, 456, 3456, 34, 34, 45, 76, 987, 76, 65, 54, 345, 45, 87, 65, 45, 34, 5, 7, 6, 876, 45, 3]\n"
     ]
    }
   ],
   "source": [
    "list1= [234,456,3456,34,34,45,76,987,76,65]\n",
    "list2=[54,345,45,87,65,45,34,5,7,6,876,45,3]\n",
    "list3= list1+list2\n",
    "print(\"list1: \",list1)\n",
    "print(\"list2: \",list2)\n",
    "print(\"merged list: \",list3)"
   ]
  },
  {
   "cell_type": "code",
   "execution_count": 113,
   "id": "fcadde70-5fbc-47d7-b86c-db2b33996b38",
   "metadata": {},
   "outputs": [
    {
     "name": "stdout",
     "output_type": "stream",
     "text": [
      "Removed Duplicate Values List :  [2, 5, 7, 4, 6, 3, 1]\n"
     ]
    }
   ],
   "source": [
    "# ques 30:- Write a Python program to remove duplicates from a list.\n",
    "list1 = [ 2,5,7,5,4,2,5,7,4,2,4,6,3,1,4,6,4 ]\n",
    "# 1st Way\n",
    "# for i in range(0,len(list1)):\n",
    "#     j = i+1\n",
    "#     while(j<len(list1)):\n",
    "#         if(list1[i]==list1[j]):\n",
    "#             list1.pop(j)\n",
    "#         j=j+1\n",
    "\n",
    "# 2nd Way\n",
    "# list1 = list(set(list1))\n",
    "\n",
    "# 3rd Way\n",
    "uniqueList = [ ]\n",
    "for i in list1:\n",
    "    if i not in uniqueList:\n",
    "        uniqueList.append(i)\n",
    "print(\"Removed Duplicate Values List : \",uniqueList)"
   ]
  },
  {
   "cell_type": "code",
   "execution_count": 115,
   "id": "21107888-b5f7-4922-b2c7-0d7d638577f0",
   "metadata": {},
   "outputs": [],
   "source": [
    "# ques 31:-Write a Python program to find the second largest number in a list."
   ]
  },
  {
   "cell_type": "code",
   "execution_count": 119,
   "id": "53fa16d5-e6f3-493f-a93e-61408788074f",
   "metadata": {},
   "outputs": [
    {
     "name": "stdout",
     "output_type": "stream",
     "text": [
      "List :  [2, 6, 78, 43, 23, 56, 85, 90, 56, 23, 2, 6, 3]\n",
      "Second Largest Value :  85\n"
     ]
    }
   ],
   "source": [
    "list1 = [ 2,6,78,43,23,56,85,90,56,23,2,6,3 ]\n",
    "print(\"List : \",list1)\n",
    "\n",
    "if(len(list1)>1):\n",
    "    list1.sort(reverse=True)\n",
    "    print(\"Second Largest Value : \",list1[1])\n",
    "else:\n",
    "    print(\"List has less than 2 elements only!\")"
   ]
  },
  {
   "cell_type": "code",
   "execution_count": 121,
   "id": "5c4e15f5-4876-4c55-9dc1-9c4c04e3097f",
   "metadata": {},
   "outputs": [
    {
     "name": "stdout",
     "output_type": "stream",
     "text": [
      "List :  [32, 5, 78, 6, 4, 32, 43, 65, 78, 67, 34, 23, 45]\n"
     ]
    },
    {
     "name": "stdin",
     "output_type": "stream",
     "text": [
      "Enter A Number :  4\n"
     ]
    },
    {
     "name": "stdout",
     "output_type": "stream",
     "text": [
      "Item Exists!\n"
     ]
    }
   ],
   "source": [
    "# ques 32:- Write a Python program to check if an element exists in a list.\n",
    "list1 = [ 32,5,78,6,4,32,43,65,78,67,34,23,45 ]\n",
    "print(\"List : \",list1)\n",
    "num = int( input(\"Enter A Number : \") )\n",
    "if(num in list1):\n",
    "    print(\"Item Exists!\")\n",
    "else:\n",
    "    print(\"Item is not exist in List!\")"
   ]
  },
  {
   "cell_type": "code",
   "execution_count": 123,
   "id": "381c9200-def0-48ed-a4de-e6ad8385c4fc",
   "metadata": {},
   "outputs": [
    {
     "name": "stdout",
     "output_type": "stream",
     "text": [
      "List1 :  [2, 4, 6, 4, 7, 3, 2, 4, 4, 7, 3, 2]\n",
      "List2 :  [2, 5, 7, 9, 6, 3, 6, 8, 6, 4, 3, 7]\n",
      "List3 :  [2, 4, 6, 7, 3, 7, 3]\n"
     ]
    }
   ],
   "source": [
    "# ques 33:-\tWrite a program to find the intersection of two lists.\n",
    "# HINT : common elements in both List\n",
    "list1 = [ 2,4,6,4,7,3,2,4,4,7,3,2 ]\n",
    "list2 = [ 2,5,7,9,6,3,6,8,6,4,3,7 ]\n",
    "print(\"List1 : \",list1)\n",
    "print(\"List2 : \",list2)\n",
    "list3 = [  ]\n",
    "for i in list1:\n",
    "    for j in list2:\n",
    "        if(i==j):\n",
    "            list3.append(j)\n",
    "            list2.remove(j)\n",
    "            break\n",
    "print(\"List3 : \",list3)"
   ]
  },
  {
   "cell_type": "code",
   "execution_count": 125,
   "id": "dbc04c88-0a13-495c-95ce-8792158bca1a",
   "metadata": {},
   "outputs": [
    {
     "name": "stdout",
     "output_type": "stream",
     "text": [
      "List1 :  [('a', 23), ('b', 35), ('c', 35), ('d', 67), ('e', 36)]\n",
      "Dictionary :  {'a': 23, 'b': 35, 'c': 35, 'd': 67, 'e': 36}\n"
     ]
    }
   ],
   "source": [
    "# ques 34:-\tWrite a Python program to convert a list of tuples into a dictionary.\n",
    "list1 = [ ('a',23),('b',35),('c',35),('d',67),('e',36) ]\n",
    "dict1 = dict(list1)\n",
    "print(\"List1 : \",list1)\n",
    "print(\"Dictionary : \",dict1)\n",
    "\n",
    "# Output:\n",
    "# List1 :  [('a', 23), ('b', 35), ('c', 35), ('d', 67), ('e', 36)]\n",
    "# Dictionary :  {'a': 23, 'b': 35, 'c': 35, 'd': 67, 'e': 36}"
   ]
  },
  {
   "cell_type": "code",
   "execution_count": null,
   "id": "f2a3995d-8eed-4c7c-b75b-6fc7263ab516",
   "metadata": {},
   "outputs": [],
   "source": []
  }
 ],
 "metadata": {
  "kernelspec": {
   "display_name": "Python 3 (ipykernel)",
   "language": "python",
   "name": "python3"
  },
  "language_info": {
   "codemirror_mode": {
    "name": "ipython",
    "version": 3
   },
   "file_extension": ".py",
   "mimetype": "text/x-python",
   "name": "python",
   "nbconvert_exporter": "python",
   "pygments_lexer": "ipython3",
   "version": "3.12.4"
  }
 },
 "nbformat": 4,
 "nbformat_minor": 5
}
